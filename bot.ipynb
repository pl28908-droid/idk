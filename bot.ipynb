{
  "nbformat": 4,
  "nbformat_minor": 0,
  "metadata": {
    "colab": {
      "provenance": [],
      "authorship_tag": "ABX9TyPowWao3+0yRNPEMn3m4eif",
      "include_colab_link": true
    },
    "kernelspec": {
      "name": "python3",
      "display_name": "Python 3"
    },
    "language_info": {
      "name": "python"
    }
  },
  "cells": [
    {
      "cell_type": "markdown",
      "metadata": {
        "id": "view-in-github",
        "colab_type": "text"
      },
      "source": [
        "<a href=\"https://colab.research.google.com/github/pl28908-droid/idk/blob/main/bot.ipynb\" target=\"_parent\"><img src=\"https://colab.research.google.com/assets/colab-badge.svg\" alt=\"Open In Colab\"/></a>"
      ]
    },
    {
      "cell_type": "code",
      "execution_count": null,
      "metadata": {
        "id": "qoSgDKOSxhSJ"
      },
      "outputs": [],
      "source": [
        "import numpy as np\n",
        "import nltk\n",
        "import string\n",
        "import random"
      ]
    },
    {
      "cell_type": "code",
      "source": [
        "f=open('# Food Waste & NGO Connect Chatbot.txt','r', errors='ignore')\n",
        "raw_doc=f.read()\n",
        "raw_doc=raw_doc.lower()#converts texts to lowercase\n",
        "nltk.download('punkt')#using punkt tokenizer\n",
        "nltk.download('wordnet')#using wordnet dictionary\n",
        "nltk.download('punkt_tab') # Download the missing resource\n",
        "nltk.download('averaged_perceptron_tagger') # Download the missing resource\n",
        "sent_tokens = nltk.sent_tokenize(raw_doc)#converts doc to list of sentences\n",
        "word_tokens = nltk.word_tokenize(raw_doc)#converts doc to list of wc"
      ],
      "metadata": {
        "colab": {
          "base_uri": "https://localhost:8080/"
        },
        "id": "86wlMLimxxMM",
        "outputId": "0332b023-3e09-42ee-c0d7-e4470b00c131"
      },
      "execution_count": null,
      "outputs": [
        {
          "output_type": "stream",
          "name": "stderr",
          "text": [
            "[nltk_data] Downloading package punkt to /root/nltk_data...\n",
            "[nltk_data]   Package punkt is already up-to-date!\n",
            "[nltk_data] Downloading package wordnet to /root/nltk_data...\n",
            "[nltk_data]   Package wordnet is already up-to-date!\n",
            "[nltk_data] Downloading package punkt_tab to /root/nltk_data...\n",
            "[nltk_data]   Package punkt_tab is already up-to-date!\n",
            "[nltk_data] Downloading package averaged_perceptron_tagger to\n",
            "[nltk_data]     /root/nltk_data...\n",
            "[nltk_data]   Package averaged_perceptron_tagger is already up-to-\n",
            "[nltk_data]       date!\n"
          ]
        }
      ]
    },
    {
      "cell_type": "code",
      "source": [
        "sent_tokens[:2]"
      ],
      "metadata": {
        "colab": {
          "base_uri": "https://localhost:8080/"
        },
        "id": "8WTF72qw0Ft7",
        "outputId": "ccf158ea-3bfa-458a-db8f-1d938b729d38"
      },
      "execution_count": null,
      "outputs": [
        {
          "output_type": "execute_result",
          "data": {
            "text/plain": [
              "['user: hi\\nuser: hello\\nuser: hey\\nbot: hello 👋 welcome to food waste & ngo connect.',\n",
              " 'how can i help you today?']"
            ]
          },
          "metadata": {},
          "execution_count": 112
        }
      ]
    },
    {
      "cell_type": "code",
      "source": [
        "word_tokens[:2]"
      ],
      "metadata": {
        "colab": {
          "base_uri": "https://localhost:8080/"
        },
        "id": "9Cu7Dj1F3hk0",
        "outputId": "487d9098-9ef8-4561-c598-cc4eeb2075bf"
      },
      "execution_count": null,
      "outputs": [
        {
          "output_type": "execute_result",
          "data": {
            "text/plain": [
              "['user', ':']"
            ]
          },
          "metadata": {},
          "execution_count": 113
        }
      ]
    },
    {
      "cell_type": "markdown",
      "source": [
        "##text preprocessing\n"
      ],
      "metadata": {
        "id": "roOhy4U03-Y6"
      }
    },
    {
      "cell_type": "code",
      "source": [
        "lemmer=nltk.stem.WordNetLemmatizer()\n",
        "def LemTokens(tokens):\n",
        "  return [lemmer.lemmatize(token) for token in tokens ]\n",
        "remove_punct_dict = dict((ord(punct), None)for punct in string.punctuation)\n",
        "def LemNormalize(text):\n",
        "  return LemTokens(nltk.word_tokenize(text.lower().translate(remove_punct_dict)))\n"
      ],
      "metadata": {
        "id": "n5htY0q73l2S"
      },
      "execution_count": null,
      "outputs": []
    },
    {
      "cell_type": "markdown",
      "source": [
        "greeting funct\n"
      ],
      "metadata": {
        "id": "VM7Bz1Lm6cup"
      }
    },
    {
      "cell_type": "code",
      "source": [
        "GREET_INPUTS = (\"hello\",\"hey\",\"greetings\",\"what's up\",\"hey\",\"yo\")\n",
        "GREET_RESPONSE = [\"hi\",\"hey\",\"hi there\",\"hello\",\"I am glad ! you are talking to me\",\"hello,mam/sir\",\"namaste\"]\n",
        "def greet(sentence):\n",
        "\n",
        "  for word in sentence.split():\n",
        "    if word.lower()in GREET_INPUTS:\n",
        "      return random.choice(GREET_RESPONSE)"
      ],
      "metadata": {
        "id": "RVP9Nb6h6cBB"
      },
      "execution_count": null,
      "outputs": []
    },
    {
      "cell_type": "code",
      "source": [
        "from sklearn.feature_extraction.text import TfidfVectorizer\n",
        "from sklearn.metrics.pairwise import cosine_similarity"
      ],
      "metadata": {
        "id": "wMpKsJU27sI2"
      },
      "execution_count": null,
      "outputs": []
    },
    {
      "cell_type": "code",
      "source": [
        "def response(user_response):\n",
        "    robo1_response=''\n",
        "    TfidfVec= TfidfVectorizer(tokenizer=LemNormalize,stop_words = 'english')\n",
        "    Tfidf=TfidfVec.fit_transform(sent_tokens)\n",
        "    vals=cosine_similarity(Tfidf[-1],Tfidf)\n",
        "    idx=vals.argsort()[0][-2]\n",
        "    flat=vals.flatten()\n",
        "    flat.sort()\n",
        "    req_Tfidf = flat[-2]\n",
        "    if(req_Tfidf==0):\n",
        "      robo1_response=\"sorry, I can't understand your concern.\"\n",
        "      return robo1_response\n",
        "    else:\n",
        "      robo1_response = robo1_response+sent_tokens[idx]\n",
        "      return robo1_response"
      ],
      "metadata": {
        "id": "mMl-l-zg8LDT"
      },
      "execution_count": null,
      "outputs": []
    },
    {
      "cell_type": "code",
      "source": [
        "\n",
        "flag=True\n",
        "print(\"BOT: Hello! user my name is SAHAYAK.\")\n",
        "print(\"If you want to end this conversation just enter the key word Bye.\")\n",
        "while(flag==True):\n",
        "  user_response = input()\n",
        "  user_response+user_response.lower()\n",
        "  if(user_response!='bye'):\n",
        "     if(user_response=='thanks' or user_response=='thank you'):\n",
        "      flag=False\n",
        "      print(\"BOT: you are welcome,*nods*\")\n",
        "     else:\n",
        "      if(greet(user_response)!=None):\n",
        "        print(\"BOT:\"+greet(user_response))\n",
        "      else:\n",
        "        sent_tokens.append(user_response)\n",
        "        word_tokens=word_tokens+nltk.word_tokenize(user_response)\n",
        "        final_words=list(set(word_tokens))\n",
        "        print(\"BOT:\",end=\"\")\n",
        "        print(response(user_response))\n",
        "        sent_tokens.remove(user_response)\n",
        "  else:\n",
        "    flag=False\n",
        "    print(\"BOT: Have a good day ahead.\")\n",
        "    print(\"Hope you don't go to bed hungry today <3.\")"
      ],
      "metadata": {
        "colab": {
          "base_uri": "https://localhost:8080/"
        },
        "id": "oIi7GSa39XSQ",
        "outputId": "790555ac-f5a8-4914-98d5-55d83732b371"
      },
      "execution_count": null,
      "outputs": [
        {
          "output_type": "stream",
          "name": "stdout",
          "text": [
            "BOT: Hello! user my name is SAHAYAK.\n",
            "If you want to end this conversation just enter the key word Bye.\n",
            "hi\n",
            "BOT:user: hi\n",
            "user: hello\n",
            "user: hey\n",
            "bot: hello 👋 welcome to food waste & ngo connect.\n",
            "hey\n",
            "BOT:hi there\n",
            "tell me about food waste ngo connect\n",
            "BOT:user: how can my ngo join\n",
            "bot: that’s wonderful 💚 you can register your ngo on the “ngo connect” page.\n",
            "tell me about food waste ngo connect\n",
            "BOT:user: how can my ngo join\n",
            "bot: that’s wonderful 💚 you can register your ngo on the “ngo connect” page.\n",
            "bye\n",
            "BOT: Have a good day ahead.\n",
            "Hope you don't go to bed hungry today <3.\n"
          ]
        }
      ]
    }
  ]
}